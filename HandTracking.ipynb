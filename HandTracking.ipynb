{
 "cells": [
  {
   "cell_type": "code",
   "execution_count": null,
   "id": "7f28bf30",
   "metadata": {},
   "outputs": [],
   "source": [
    "python --version\n"
   ]
  },
  {
   "cell_type": "code",
   "execution_count": null,
   "id": "7e9fc153",
   "metadata": {},
   "outputs": [],
   "source": [
    "pip install mediapipe==0.8.11 \n"
   ]
  },
  {
   "cell_type": "code",
   "execution_count": null,
   "id": "853f863f",
   "metadata": {},
   "outputs": [],
   "source": [
    "import cv2\n",
    "import time #To check the frameRate\n",
    "import mediapipe as mp"
   ]
  },
  {
   "cell_type": "code",
   "execution_count": null,
   "id": "6e1f9841",
   "metadata": {},
   "outputs": [],
   "source": [
    "cap=cv2.VideoCapture(0)\n",
    "mpHands=mp.solutions.hands\n",
    "hands=mpHands.Hands()\n",
    "mpDraw=mp.solutions.drawing_utils\n",
    "pTime=0\n",
    "cTime=0"
   ]
  },
  {
   "cell_type": "code",
   "execution_count": null,
   "id": "ad59e14b",
   "metadata": {},
   "outputs": [],
   "source": [
    "while True:\n",
    "    success, img=cap.read()\n",
    "    imgRGB=cv2.cvtColor(img,cv2.COLOR_BGR2RGB)\n",
    "    result=hands.process(imgRGB)\n",
    "    if result.multi_hand_landmarks:\n",
    "            for handLms in result.multi_hand_landmarks:\n",
    "                for id, lm in enumerate(handLms.landmark):\n",
    "                    h, w ,c =  img.shape\n",
    "                    cx, cy = int(lm.x*w), int(lm.y*h) \n",
    "                    if id ==0:\n",
    "                        cv2.circle(img,(cx,cy),25,(255,0,255),cv2.FILLED)\n",
    "                  #  Tracking a spicific point index\n",
    "                mpDraw.draw_landmarks(img,handLms,mpHands.HAND_CONNECTIONS)\n",
    "                \n",
    "    cTime=time.time()\n",
    "    fps = 1 / (cTime-pTime)\n",
    "    pTime=cTime\n",
    "    cv2.putText(img,str(int(fps)),(10,70),cv2.FONT_HERSHEY_PLAIN,3,(255,0,255),3)\n",
    "    cv2.imshow(\"Image\",img)\n",
    "    cv2.waitKey(1)"
   ]
  }
 ],
 "metadata": {
  "kernelspec": {
   "display_name": "Python 3 (ipykernel)",
   "language": "python",
   "name": "python3"
  },
  "language_info": {
   "codemirror_mode": {
    "name": "ipython",
    "version": 3
   },
   "file_extension": ".py",
   "mimetype": "text/x-python",
   "name": "python",
   "nbconvert_exporter": "python",
   "pygments_lexer": "ipython3",
   "version": "3.9.13"
  }
 },
 "nbformat": 4,
 "nbformat_minor": 5
}
