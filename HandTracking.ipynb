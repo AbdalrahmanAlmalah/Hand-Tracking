{
 "cells": [
  {
   "cell_type": "code",
   "execution_count": null,
   "id": "7f28bf30",
   "metadata": {},
   "outputs": [],
   "source": [
    "python --version\n"
   ]
  },
  {
   "cell_type": "code",
   "execution_count": null,
   "id": "7e9fc153",
   "metadata": {},
   "outputs": [],
   "source": [
    "pip install mediapipe==0.8.11 \n"
   ]
  },
  {
   "cell_type": "code",
   "execution_count": null,
   "id": "853f863f",
   "metadata": {},
   "outputs": [],
   "source": [
    "import cv2\n",
    "import time #To check the frameRate\n",
    "import mediapipe as mp"
   ]
  },
  {
   "cell_type": "code",
   "execution_count": null,
   "id": "6e1f9841",
   "metadata": {},
   "outputs": [],
   "source": [
    "cap=cv2.VideoCapture(0)\n",
    "mpHands=mp.solutions.hands\n",
    "hands=mpHands.Hands()\n",
    "mpDraw=mp.solutions.drawing_utils\n",
    "pTime=0\n",
    "cTime=0"
   ]
  },
  {
   "cell_type": "code",
   "execution_count": null,
   "id": "ad59e14b",
   "metadata": {},
   "outputs": [],
   "source": [
    "while True:\n",
    "    success, img=cap.read()\n",
    "    imgRGB=cv2.cvtColor(img,cv2.COLOR_BGR2RGB)\n",
    "    result=hands.process(imgRGB)\n",
    "    if result.multi_hand_landmarks:\n",
    "            for handLms in result.multi_hand_landmarks:\n",
    "                for id, lm in enumerate(handLms.landmark):\n",
    "                    h, w ,c =  img.shape\n",
    "                    cx, cy = int(lm.x*w), int(lm.y*h) \n",
    "                    if id ==0:\n",
    "                        cv2.circle(img,(cx,cy),25,(255,0,255),cv2.FILLED)\n",
    "                  #  Tracking a spicific point index\n",
    "                mpDraw.draw_landmarks(img,handLms,mpHands.HAND_CONNECTIONS)\n",
    "                \n",
    "    cTime=time.time()\n",
    "    fps = 1 / (cTime-pTime)\n",
    "    pTime=cTime\n",
    "    cv2.putText(img,str(int(fps)),(10,70),cv2.FONT_HERSHEY_PLAIN,3,(255,0,255),3)\n",
    "    cv2.imshow(\"Image\",img)\n",
    "    cv2.waitKey(1)"
   ]
  },
  {
   "cell_type": "code",
   "execution_count": null,
   "id": "2fcabc34",
   "metadata": {},
   "outputs": [],
   "source": [
    "pip install face_recognition\n"
   ]
  },
  {
   "cell_type": "code",
   "execution_count": 2,
   "id": "fbe51df9",
   "metadata": {},
   "outputs": [
    {
     "name": "stdout",
     "output_type": "stream",
     "text": [
      "Collecting firebase-adminNote: you may need to restart the kernel to use updated packages.\n",
      "\n",
      "  Using cached firebase_admin-6.3.0-py3-none-any.whl.metadata (1.4 kB)\n",
      "Collecting cachecontrol>=0.12.6 (from firebase-admin)\n",
      "  Using cached cachecontrol-0.13.1-py3-none-any.whl.metadata (3.0 kB)\n",
      "Collecting google-api-python-client>=1.7.8 (from firebase-admin)\n",
      "  Using cached google_api_python_client-2.114.0-py2.py3-none-any.whl.metadata (6.6 kB)\n",
      "Collecting google-cloud-storage>=1.37.1 (from firebase-admin)\n",
      "  Using cached google_cloud_storage-2.14.0-py2.py3-none-any.whl.metadata (6.1 kB)\n",
      "Collecting pyjwt>=2.5.0 (from pyjwt[crypto]>=2.5.0->firebase-admin)\n",
      "  Using cached PyJWT-2.8.0-py3-none-any.whl.metadata (4.2 kB)\n",
      "Collecting google-api-core<3.0.0dev,>=1.22.1 (from google-api-core[grpc]<3.0.0dev,>=1.22.1; platform_python_implementation != \"PyPy\"->firebase-admin)\n",
      "  Using cached google_api_core-2.15.0-py3-none-any.whl.metadata (2.7 kB)\n",
      "Collecting google-cloud-firestore>=2.9.1 (from firebase-admin)\n",
      "  Using cached google_cloud_firestore-2.14.0-py2.py3-none-any.whl.metadata (5.6 kB)\n",
      "Requirement already satisfied: requests>=2.16.0 in c:\\users\\asus\\anaconda3\\lib\\site-packages (from cachecontrol>=0.12.6->firebase-admin) (2.28.1)\n",
      "Requirement already satisfied: msgpack>=0.5.2 in c:\\users\\asus\\anaconda3\\lib\\site-packages (from cachecontrol>=0.12.6->firebase-admin) (1.0.3)\n",
      "Collecting googleapis-common-protos<2.0.dev0,>=1.56.2 (from google-api-core<3.0.0dev,>=1.22.1->google-api-core[grpc]<3.0.0dev,>=1.22.1; platform_python_implementation != \"PyPy\"->firebase-admin)\n",
      "  Using cached googleapis_common_protos-1.62.0-py2.py3-none-any.whl.metadata (1.5 kB)\n",
      "Collecting protobuf!=3.20.0,!=3.20.1,!=4.21.0,!=4.21.1,!=4.21.2,!=4.21.3,!=4.21.4,!=4.21.5,<5.0.0.dev0,>=3.19.5 (from google-api-core<3.0.0dev,>=1.22.1->google-api-core[grpc]<3.0.0dev,>=1.22.1; platform_python_implementation != \"PyPy\"->firebase-admin)\n",
      "  Using cached protobuf-4.25.2-cp39-cp39-win_amd64.whl.metadata (541 bytes)\n",
      "Collecting google-auth<3.0.dev0,>=2.14.1 (from google-api-core<3.0.0dev,>=1.22.1->google-api-core[grpc]<3.0.0dev,>=1.22.1; platform_python_implementation != \"PyPy\"->firebase-admin)\n",
      "  Using cached google_auth-2.26.2-py2.py3-none-any.whl.metadata (4.7 kB)\n",
      "Requirement already satisfied: grpcio<2.0dev,>=1.33.2 in c:\\users\\asus\\anaconda3\\lib\\site-packages (from google-api-core[grpc]<3.0.0dev,>=1.22.1; platform_python_implementation != \"PyPy\"->firebase-admin) (1.42.0)\n",
      "Collecting grpcio-status<2.0.dev0,>=1.33.2 (from google-api-core[grpc]<3.0.0dev,>=1.22.1; platform_python_implementation != \"PyPy\"->firebase-admin)\n",
      "  Using cached grpcio_status-1.60.0-py3-none-any.whl.metadata (1.3 kB)\n",
      "Collecting httplib2<1.dev0,>=0.15.0 (from google-api-python-client>=1.7.8->firebase-admin)\n",
      "  Using cached httplib2-0.22.0-py3-none-any.whl (96 kB)\n",
      "Collecting google-auth-httplib2>=0.1.0 (from google-api-python-client>=1.7.8->firebase-admin)\n",
      "  Using cached google_auth_httplib2-0.2.0-py2.py3-none-any.whl.metadata (2.2 kB)\n",
      "Collecting uritemplate<5,>=3.0.1 (from google-api-python-client>=1.7.8->firebase-admin)\n",
      "  Using cached uritemplate-4.1.1-py2.py3-none-any.whl (10 kB)\n",
      "Collecting google-cloud-core<3.0.0dev,>=1.4.1 (from google-cloud-firestore>=2.9.1->firebase-admin)\n",
      "  Using cached google_cloud_core-2.4.1-py2.py3-none-any.whl.metadata (2.7 kB)\n",
      "Collecting proto-plus<2.0.0dev,>=1.22.0 (from google-cloud-firestore>=2.9.1->firebase-admin)\n",
      "  Using cached proto_plus-1.23.0-py3-none-any.whl.metadata (2.2 kB)\n",
      "Collecting google-resumable-media>=2.6.0 (from google-cloud-storage>=1.37.1->firebase-admin)\n",
      "  Using cached google_resumable_media-2.7.0-py2.py3-none-any.whl.metadata (2.2 kB)\n",
      "Collecting google-crc32c<2.0dev,>=1.0 (from google-cloud-storage>=1.37.1->firebase-admin)\n",
      "  Using cached google_crc32c-1.5.0-cp39-cp39-win_amd64.whl (27 kB)\n",
      "Requirement already satisfied: cryptography>=3.4.0 in c:\\users\\asus\\anaconda3\\lib\\site-packages (from pyjwt[crypto]>=2.5.0->firebase-admin) (37.0.1)\n",
      "Requirement already satisfied: cffi>=1.12 in c:\\users\\asus\\anaconda3\\lib\\site-packages (from cryptography>=3.4.0->pyjwt[crypto]>=2.5.0->firebase-admin) (1.15.1)\n",
      "Requirement already satisfied: cachetools<6.0,>=2.0.0 in c:\\users\\asus\\anaconda3\\lib\\site-packages (from google-auth<3.0.dev0,>=2.14.1->google-api-core<3.0.0dev,>=1.22.1->google-api-core[grpc]<3.0.0dev,>=1.22.1; platform_python_implementation != \"PyPy\"->firebase-admin) (4.2.2)\n",
      "Requirement already satisfied: pyasn1-modules>=0.2.1 in c:\\users\\asus\\anaconda3\\lib\\site-packages (from google-auth<3.0.dev0,>=2.14.1->google-api-core<3.0.0dev,>=1.22.1->google-api-core[grpc]<3.0.0dev,>=1.22.1; platform_python_implementation != \"PyPy\"->firebase-admin) (0.2.8)\n",
      "Requirement already satisfied: rsa<5,>=3.1.4 in c:\\users\\asus\\anaconda3\\lib\\site-packages (from google-auth<3.0.dev0,>=2.14.1->google-api-core<3.0.0dev,>=1.22.1->google-api-core[grpc]<3.0.0dev,>=1.22.1; platform_python_implementation != \"PyPy\"->firebase-admin) (4.7.2)\n",
      "Requirement already satisfied: six>=1.5.2 in c:\\users\\asus\\anaconda3\\lib\\site-packages (from grpcio<2.0dev,>=1.33.2->google-api-core[grpc]<3.0.0dev,>=1.22.1; platform_python_implementation != \"PyPy\"->firebase-admin) (1.16.0)\n",
      "Collecting grpcio<2.0dev,>=1.33.2 (from google-api-core[grpc]<3.0.0dev,>=1.22.1; platform_python_implementation != \"PyPy\"->firebase-admin)\n",
      "  Using cached grpcio-1.60.0-cp39-cp39-win_amd64.whl.metadata (4.2 kB)\n",
      "Requirement already satisfied: pyparsing!=3.0.0,!=3.0.1,!=3.0.2,!=3.0.3,<4,>=2.4.2 in c:\\users\\asus\\anaconda3\\lib\\site-packages (from httplib2<1.dev0,>=0.15.0->google-api-python-client>=1.7.8->firebase-admin) (3.0.9)\n",
      "Requirement already satisfied: charset-normalizer<3,>=2 in c:\\users\\asus\\anaconda3\\lib\\site-packages (from requests>=2.16.0->cachecontrol>=0.12.6->firebase-admin) (2.0.4)\n",
      "Requirement already satisfied: idna<4,>=2.5 in c:\\users\\asus\\anaconda3\\lib\\site-packages (from requests>=2.16.0->cachecontrol>=0.12.6->firebase-admin) (3.3)\n",
      "Requirement already satisfied: urllib3<1.27,>=1.21.1 in c:\\users\\asus\\anaconda3\\lib\\site-packages (from requests>=2.16.0->cachecontrol>=0.12.6->firebase-admin) (1.26.11)\n",
      "Requirement already satisfied: certifi>=2017.4.17 in c:\\users\\asus\\anaconda3\\lib\\site-packages (from requests>=2.16.0->cachecontrol>=0.12.6->firebase-admin) (2023.11.17)\n",
      "Requirement already satisfied: pycparser in c:\\users\\asus\\anaconda3\\lib\\site-packages (from cffi>=1.12->cryptography>=3.4.0->pyjwt[crypto]>=2.5.0->firebase-admin) (2.21)\n",
      "Requirement already satisfied: pyasn1<0.5.0,>=0.4.6 in c:\\users\\asus\\anaconda3\\lib\\site-packages (from pyasn1-modules>=0.2.1->google-auth<3.0.dev0,>=2.14.1->google-api-core<3.0.0dev,>=1.22.1->google-api-core[grpc]<3.0.0dev,>=1.22.1; platform_python_implementation != \"PyPy\"->firebase-admin) (0.4.8)\n",
      "Using cached firebase_admin-6.3.0-py3-none-any.whl (120 kB)\n",
      "Using cached cachecontrol-0.13.1-py3-none-any.whl (22 kB)\n",
      "Using cached google_api_core-2.15.0-py3-none-any.whl (121 kB)\n",
      "Downloading google_api_python_client-2.114.0-py2.py3-none-any.whl (12.0 MB)\n",
      "   ---------------------------------------- 12.0/12.0 MB 78.4 kB/s eta 0:00:00\n",
      "Downloading google_cloud_firestore-2.14.0-py2.py3-none-any.whl (290 kB)\n",
      "   -------------------------------------- 290.2/290.2 kB 107.3 kB/s eta 0:00:00\n",
      "Downloading google_cloud_storage-2.14.0-py2.py3-none-any.whl (121 kB)\n",
      "   --------------------------------------- 121.6/121.6 kB 70.6 kB/s eta 0:00:00\n",
      "Downloading PyJWT-2.8.0-py3-none-any.whl (22 kB)\n",
      "Downloading google_auth-2.26.2-py2.py3-none-any.whl (186 kB)\n",
      "   --------------------------------------- 186.5/186.5 kB 94.8 kB/s eta 0:00:00\n",
      "Downloading google_auth_httplib2-0.2.0-py2.py3-none-any.whl (9.3 kB)\n",
      "Downloading google_cloud_core-2.4.1-py2.py3-none-any.whl (29 kB)\n",
      "Downloading google_resumable_media-2.7.0-py2.py3-none-any.whl (80 kB)\n",
      "   ---------------------------------------- 80.6/80.6 kB 115.6 kB/s eta 0:00:00\n",
      "Downloading googleapis_common_protos-1.62.0-py2.py3-none-any.whl (228 kB)\n",
      "   --------------------------------------- 228.7/228.7 kB 85.8 kB/s eta 0:00:00\n",
      "Downloading grpcio_status-1.60.0-py3-none-any.whl (14 kB)\n",
      "Downloading grpcio-1.60.0-cp39-cp39-win_amd64.whl (3.7 MB)\n",
      "   ---------------------------------------- 3.7/3.7 MB 78.0 kB/s eta 0:00:00\n",
      "Downloading proto_plus-1.23.0-py3-none-any.whl (48 kB)\n",
      "   ---------------------------------------- 48.8/48.8 kB 41.8 kB/s eta 0:00:00\n",
      "Downloading protobuf-4.25.2-cp39-cp39-win_amd64.whl (413 kB)\n",
      "   --------------------------------------- 413.4/413.4 kB 44.5 kB/s eta 0:00:00\n",
      "Installing collected packages: uritemplate, pyjwt, protobuf, httplib2, grpcio, google-crc32c, proto-plus, googleapis-common-protos, google-resumable-media, google-auth, cachecontrol, grpcio-status, google-auth-httplib2, google-api-core, google-cloud-core, google-api-python-client, google-cloud-storage, google-cloud-firestore, firebase-admin\n",
      "  Attempting uninstall: pyjwt\n",
      "    Found existing installation: PyJWT 2.4.0\n",
      "    Uninstalling PyJWT-2.4.0:\n",
      "      Successfully uninstalled PyJWT-2.4.0\n",
      "  Attempting uninstall: protobuf\n",
      "    Found existing installation: protobuf 3.20.1\n",
      "    Uninstalling protobuf-3.20.1:\n",
      "      Successfully uninstalled protobuf-3.20.1\n",
      "  Attempting uninstall: grpcio\n",
      "    Found existing installation: grpcio 1.42.0\n",
      "    Uninstalling grpcio-1.42.0:\n",
      "      Successfully uninstalled grpcio-1.42.0\n",
      "  Attempting uninstall: google-auth\n",
      "    Found existing installation: google-auth 2.6.0\n",
      "    Uninstalling google-auth-2.6.0:\n",
      "      Successfully uninstalled google-auth-2.6.0\n",
      "Successfully installed cachecontrol-0.13.1 firebase-admin-6.3.0 google-api-core-2.15.0 google-api-python-client-2.114.0 google-auth-2.26.2 google-auth-httplib2-0.2.0 google-cloud-core-2.4.1 google-cloud-firestore-2.14.0 google-cloud-storage-2.14.0 google-crc32c-1.5.0 google-resumable-media-2.7.0 googleapis-common-protos-1.62.0 grpcio-1.60.0 grpcio-status-1.60.0 httplib2-0.22.0 proto-plus-1.23.0 protobuf-4.22.1 pyjwt-2.8.0 uritemplate-4.1.1\n"
     ]
    },
    {
     "name": "stderr",
     "output_type": "stream",
     "text": [
      "ERROR: pip's dependency resolver does not currently take into account all the packages that are installed. This behaviour is the source of the following dependency conflicts.\n",
      "mediapipe 0.8.11 requires protobuf<4,>=3.11, but you have protobuf 4.25.2 which is incompatible.\n",
      "tensorflow 2.9.1 requires flatbuffers<2,>=1.12, but you have flatbuffers 2.0 which is incompatible.\n",
      "tensorflow 2.9.1 requires gast<=0.4.0,>=0.2.1, but you have gast 0.5.3 which is incompatible.\n",
      "tensorflow 2.9.1 requires keras<2.10.0,>=2.9.0rc0, but you have keras 2.12.0 which is incompatible.\n",
      "tensorflow 2.9.1 requires protobuf<3.20,>=3.9.2, but you have protobuf 4.25.2 which is incompatible.\n",
      "tensorflow 2.9.1 requires tensorflow-estimator<2.10.0,>=2.9.0rc0, but you have tensorflow-estimator 2.12.0 which is incompatible.\n"
     ]
    }
   ],
   "source": [
    "pip install firebase-admin"
   ]
  },
  {
   "cell_type": "code",
   "execution_count": null,
   "id": "fb1b4fd0",
   "metadata": {},
   "outputs": [],
   "source": []
  }
 ],
 "metadata": {
  "kernelspec": {
   "display_name": "Python 3 (ipykernel)",
   "language": "python",
   "name": "python3"
  },
  "language_info": {
   "codemirror_mode": {
    "name": "ipython",
    "version": 3
   },
   "file_extension": ".py",
   "mimetype": "text/x-python",
   "name": "python",
   "nbconvert_exporter": "python",
   "pygments_lexer": "ipython3",
   "version": "3.9.13"
  }
 },
 "nbformat": 4,
 "nbformat_minor": 5
}
